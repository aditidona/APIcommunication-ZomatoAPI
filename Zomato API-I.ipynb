{
 "cells": [
  {
   "cell_type": "markdown",
   "metadata": {},
   "source": [
    "## Project-Zomato API-I\n",
    "\n",
    "##### BY: ADITI DONA\n",
    "link: https://developers.zomato.com/api/v2.1/search?entity_id=1&entity_type=city&start=1&count=20 "
   ]
  },
  {
   "cell_type": "code",
   "execution_count": 24,
   "metadata": {},
   "outputs": [
    {
     "name": "stdout",
     "output_type": "stream",
     "text": [
      "73\n"
     ]
    }
   ],
   "source": [
    "import requests as req\n",
    "import json\n",
    "\n",
    "res=req.get('https://developers.zomato.com/api/v2.1/cuisines',params={'city_id':'1'},\n",
    "            headers={'user-key':'026f719e424a24871d19aaa0b9d4da47'})\n",
    "data=res.json()\n",
    "for i in data['cuisines']:\n",
    "    if i['cuisine']['cuisine_name']=='Mexican':\n",
    "        print(i['cuisine']['cuisine_id'])"
   ]
  },
  {
   "cell_type": "markdown",
   "metadata": {},
   "source": [
    "1) Fetch the entityid and entitytype of place Connaught Place.\n",
    "\n",
    "2) Print the entityid and entitytype"
   ]
  },
  {
   "cell_type": "code",
   "execution_count": 36,
   "metadata": {},
   "outputs": [
    {
     "name": "stdout",
     "output_type": "stream",
     "text": [
      "subzone 104\n"
     ]
    }
   ],
   "source": [
    "import requests as req\n",
    "import json\n",
    "res=req.get('https://developers.zomato.com/api/v2.1/locations',params={'query':'Connaught Place'},\n",
    "            headers={'user-key':'026f719e424a24871d19aaa0b9d4da47'})\n",
    "data=res.json()\n",
    "for i in data['location_suggestions']:\n",
    "    print(i['entity_type'],i['entity_id'])\n"
   ]
  },
  {
   "cell_type": "markdown",
   "metadata": {},
   "source": [
    "3) Fetch the top 10 best-rated restaurant serving ‘Mexican’ cuisine present in Connaught Place.\n",
    "\n",
    "4) Print the restaurant name, user rating and restaurant id."
   ]
  },
  {
   "cell_type": "code",
   "execution_count": 108,
   "metadata": {},
   "outputs": [
    {
     "name": "stdout",
     "output_type": "stream",
     "text": [
      "Chili's Grill & Bar 4.6 18537536\n",
      "38 Barracks 4.6 18241537\n",
      "Ministry Of Beer 4.5 18418277\n",
      "Xero Degrees 4.4 18729557\n",
      "Farzi Cafe 4.3 18233593\n",
      "Bunta Bar Live 4.3 18623406\n",
      "Unplugged Courtyard 4.2 18216901\n",
      "Excuse Me Boss 4.2 307036\n",
      "Punjabi By Nature 4.2 306497\n",
      "The Art House Bar n Cafe 4.2 18863766\n"
     ]
    }
   ],
   "source": [
    "import requests as req\n",
    "import json\n",
    "val={'entity_id':104,'entity_type':'subzone','cuisines':'73','sort':'rating','order':'desc','count':'10'}\n",
    "res=req.get('https://developers.zomato.com/api/v2.1/search',params=val,\n",
    "            headers={'user-key':'026f719e424a24871d19aaa0b9d4da47'})\n",
    "data=res.json()\n",
    "for i in data['restaurants']:\n",
    "    print(i['restaurant']['name'],end=\" \")\n",
    "    rat=i['restaurant']['user_rating']\n",
    "    print(rat['aggregate_rating'],end=\" \")\n",
    "    print(i['restaurant']['id'])"
   ]
  },
  {
   "cell_type": "markdown",
   "metadata": {},
   "source": [
    "5) Fetch the category id of category type ‘Cafes’ using Zomato API.\n",
    "\n",
    "6) Print the category_id."
   ]
  },
  {
   "cell_type": "code",
   "execution_count": 134,
   "metadata": {},
   "outputs": [
    {
     "name": "stdout",
     "output_type": "stream",
     "text": [
      "6\n"
     ]
    }
   ],
   "source": [
    "import requests as req\n",
    "import json\n",
    "res=req.get('https://developers.zomato.com/api/v2.1/categories',\n",
    "            headers={'user-key':'026f719e424a24871d19aaa0b9d4da47'})\n",
    "data=res.json()\n",
    "for i in data['categories']:\n",
    "    if i['categories']['name']=='Cafes':\n",
    "        print(i['categories']['id'])"
   ]
  },
  {
   "cell_type": "markdown",
   "metadata": {},
   "source": [
    "7) Fetch the best-rated restaurant for ‘Mexican’ cuisine with category type ‘ Cafes’ present in Connaught Place using Zomato API.\n",
    "\n",
    "8) Print the restaurant name, user rating and restaurant id."
   ]
  },
  {
   "cell_type": "code",
   "execution_count": 107,
   "metadata": {},
   "outputs": [
    {
     "name": "stdout",
     "output_type": "stream",
     "text": [
      "Xero Degrees 4.4 18729557\n",
      "The Art House Bar n Cafe 4.2 18863766\n",
      "Cafe Delhi Heights 4.1 18579363\n",
      "Cafe Coffee Day - The Square 3.8 303034\n"
     ]
    }
   ],
   "source": [
    "import requests as req\n",
    "import json\n",
    "val={'entity_id':104,'entity_type':'subzone','cuisines':'73','category':'6','sort':'rating','order':'desc','count':'10'}\n",
    "res=req.get('https://developers.zomato.com/api/v2.1/search',params=val,\n",
    "            headers={'user-key':'026f719e424a24871d19aaa0b9d4da47'})\n",
    "data=res.json()\n",
    "for i in data['restaurants']:\n",
    "    print(i['restaurant']['name'],end=\" \")\n",
    "    rat=i['restaurant']['user_rating']\n",
    "    print(rat['aggregate_rating'],end=\" \")\n",
    "    print(i['restaurant']['id'])"
   ]
  },
  {
   "cell_type": "markdown",
   "metadata": {},
   "source": [
    "9) Fetch the latest review of the best-rated restaurant for ‘Mexican’ cuisine with Category type ‘Cafes’ present in Connaught Place \n",
    "\n",
    "10) using Zomato API.\n",
    "\n",
    "11) Print the name of user ,user rating and review text."
   ]
  },
  {
   "cell_type": "markdown",
   "metadata": {},
   "source": [
    "import requests as req\n",
    "import json\n",
    "val={'res_id':'18729557'}\n",
    "res=req.get('https://developers.zomato.com/api/v2.1/reviews',params=val,\n",
    "            headers={'user-key':'026f719e424a24871d19aaa0b9d4da47'})\n",
    "data=res.json()\n",
    "data\n",
    "for i in data['user_reviews']:\n",
    "    print(i['review']['user']['name'],end=\" \")\n",
    "    print(i['review']['rating'],end=\" \")\n",
    "    print(i['review']['review_text'])"
   ]
  },
  {
   "cell_type": "markdown",
   "metadata": {},
   "source": [
    "12) Fetch the details of restaurant 736 AD using Zomato API.\n",
    "\n",
    "13) Print the user rating, average cost for two, cuisines and address of 736 AD."
   ]
  },
  {
   "cell_type": "code",
   "execution_count": 16,
   "metadata": {},
   "outputs": [
    {
     "name": "stdout",
     "output_type": "stream",
     "text": [
      "4.3\n",
      "1400\n",
      "North Indian, Continental, Italian, Chinese\n",
      "G-15/B, Vijay Nagar, New Delhi\n"
     ]
    }
   ],
   "source": [
    "import requests as req\n",
    "import json\n",
    "val={'res_id':'18241524'}\n",
    "res=req.get('https://developers.zomato.com/api/v2.1/restaurant',params=val,\n",
    "            headers={'user-key':'026f719e424a24871d19aaa0b9d4da47'})\n",
    "data=res.json()\n",
    "#data\n",
    "print(data['user_rating']['aggregate_rating'])\n",
    "print(data['average_cost_for_two'])\n",
    "print(data['cuisines'])\n",
    "print(data['location']['address'])"
   ]
  },
  {
   "cell_type": "markdown",
   "metadata": {},
   "source": [
    "14) Find out whether online table reservation is supported in 736 AD or not using Zomato API.\n",
    "\n",
    "15) Print 'yes' if online table reservation is supported else 'no'"
   ]
  },
  {
   "cell_type": "code",
   "execution_count": 22,
   "metadata": {},
   "outputs": [
    {
     "name": "stdout",
     "output_type": "stream",
     "text": [
      "no\n"
     ]
    }
   ],
   "source": [
    "import requests as req\n",
    "import json\n",
    "val={'res_id':'18241524'}\n",
    "res=req.get('https://developers.zomato.com/api/v2.1/restaurant',params=val,\n",
    "            headers={'user-key':'026f719e424a24871d19aaa0b9d4da47'})\n",
    "data=res.json()\n",
    "if data['is_table_reservation_supported']==0:\n",
    "    print('no')\n",
    "else:\n",
    "    print('yes')"
   ]
  },
  {
   "cell_type": "markdown",
   "metadata": {},
   "source": [
    "16) Fetch the latest review of restaurant 736 AD using Zomato API\n",
    "\n",
    "17) Print the name of user ,user rating and review text."
   ]
  },
  {
   "cell_type": "code",
   "execution_count": 25,
   "metadata": {},
   "outputs": [
    {
     "name": "stdout",
     "output_type": "stream",
     "text": [
      "Palak Sharma 4 \n",
      "Ankita Sharma | Geographyedible 😎✌️ 5 All time favourite place ♥️💝\n",
      "Lavanya Kv 4 \n",
      "Foodieszonee 4 It’s a very nice place to hangout and has a very nice ambience, great dj and the food was very good must try white sauce pasta.  Good and fast service also reasonable price.\n",
      "Prerana Verma 5 \n"
     ]
    }
   ],
   "source": [
    "import requests as req\n",
    "import json\n",
    "val={'res_id':'18241524'}\n",
    "res=req.get('https://developers.zomato.com/api/v2.1/reviews',params=val,\n",
    "            headers={'user-key':'026f719e424a24871d19aaa0b9d4da47'})\n",
    "data=res.json()\n",
    "data\n",
    "for i in data['user_reviews']:\n",
    "    print(i['review']['user']['name'],end=\" \")\n",
    "    print(i['review']['rating'],end=\" \")\n",
    "    print(i['review']['review_text'])"
   ]
  },
  {
   "cell_type": "markdown",
   "metadata": {},
   "source": [
    "18) Fetch the cuisine_id of of cuisine ‘BBQ’ using Zomato API.\n",
    "\n",
    "19) Print the cuisine_id"
   ]
  },
  {
   "cell_type": "code",
   "execution_count": 32,
   "metadata": {},
   "outputs": [
    {
     "name": "stdout",
     "output_type": "stream",
     "text": [
      "193\n"
     ]
    }
   ],
   "source": [
    "import requests as req\n",
    "import json\n",
    "val={'city_id':'1'}\n",
    "res=req.get('https://developers.zomato.com/api/v2.1/cuisines',params=val,\n",
    "            headers={'user-key':'026f719e424a24871d19aaa0b9d4da47'})\n",
    "data=res.json()\n",
    "for i in data['cuisines']:\n",
    "    if i['cuisine']['cuisine_name']=='BBQ':\n",
    "        print(i['cuisine']['cuisine_id'])\n"
   ]
  },
  {
   "cell_type": "markdown",
   "metadata": {},
   "source": [
    "20) Fetch the cuisine_id of of cuisine ‘BBQ’ using Zomato API.\n",
    "\n",
    "21) Print the cuisine_id"
   ]
  },
  {
   "cell_type": "code",
   "execution_count": 56,
   "metadata": {},
   "outputs": [
    {
     "name": "stdout",
     "output_type": "stream",
     "text": [
      "Themis Barbecue House 4.5 18204820 Netaji Subhash Place\n",
      "Barbeque Nation 4.1 9561 Netaji Subhash Place\n",
      "New Bombay Bar-Be-Que 3.6 5303 Prashant Vihar\n",
      "Amazings Kitchen 0 19370424 Prashant Vihar\n",
      "UBQ by Barbeque Nation 3.7 19082741 Lawrence Road\n",
      "Moet's Barbeque 0 19238917 Alipur\n",
      "UBQ by Barbeque Nation 3.8 18889760 Rohini\n",
      "Kays Bar-Be-Que 3.8 3079 Ashok Vihar Phase 1\n",
      "7teen BBQ Bistro Bnq 3.8 18595610 Moti Nagar\n",
      "Pishori Chicken 0 19061375 Kirti Nagar\n"
     ]
    }
   ],
   "source": [
    "import requests as req\n",
    "import json\n",
    "val={'lat':'28.697661','lon':'77.140626','cuisines':'193','sort':'real_distance','order':'desc','count':10}\n",
    "res=req.get('https://developers.zomato.com/api/v2.1/search',params=val,\n",
    "            headers={'user-key':'026f719e424a24871d19aaa0b9d4da47'})\n",
    "data=res.json()\n",
    "data\n",
    "\n",
    "for i in data['restaurants']:\n",
    "    print(i['restaurant']['name'],end=\" \")\n",
    "    rat=i['restaurant']['user_rating']\n",
    "    print(rat['aggregate_rating'],end=\" \")\n",
    "    print(i['restaurant']['id'],end=\" \")\n",
    "    print(i['restaurant']['location']['locality'])\n",
    "\n",
    "    \n"
   ]
  },
  {
   "cell_type": "markdown",
   "metadata": {},
   "source": [
    "22) Fetch the latest review of the restaurant serving cuisine ‘BBQ’ which is most nearest to Coding ninjas?\n",
    "\n",
    "Note : Due to limitation of basic API plan it, can only fetch 5 latest review"
   ]
  },
  {
   "cell_type": "code",
   "execution_count": 58,
   "metadata": {},
   "outputs": [
    {
     "name": "stdout",
     "output_type": "stream",
     "text": [
      "ANNANT VASHIST 5 I celebrated my bday in Themis barbecue . I enjoyed a lot and the staff was really good nd the food is very delicious .\n",
      "Thatcravingfoodie 4 Visited them last month. On entering, you realise that the indoor seating area is not that spacious. I wanted to be seated outdoors, but then it's only allowed for dinner time. I wasn't very taken by the ambiance.  Coming to the food, I opted for the non-vegetarian buffet option. For drinks, I chose a litchi based mocktail. You could also go for beer or whisky which I think I should have chosen too, now that I think of it. But there's no use crying over spilled milk now. So coming back to my litchi mocktail, let me say it was awesome. Tart and sweet and zingy. Was a pleasant accompaniment to the starters. I really liked the chilly fish, chicken tikka, crispy corn. Cajun potatoes lacked that kick and mutton seekh was really dry. The paneer tikka too wasn't flavourful enough. And the pizza base was very tough.  The main course was so delicious. I am a manchow soup lover. And I helped myself to bowls of the veg manchow soup. Then I came across chicken hot and sour soup and gobbled that up too. I also tried different salads I think you could and should skip them. The chicken biryani and mutton rogan josh warmed up my soul with their distinctly spiced flavours. The biryani deserves special mention with the overwhelming aroma of whole spices and chunky chicken pieces. The rogan josh curry was hot and spicy and I was satisfied then and there. Nevertheless, greed occupied me again while going through other dishes and this time I helped myself to hakka chowmein and stir fried veggies in basil chilly sauce (yeah it's veg. Don't be surprised). The veggie gravy was utterly savoury and had so much going on. Sweet, sour, salty, that fresh basil hit. And by then I realised I was almost full and had to end my main course eating spree.  Coming to desserts, gulab jamuns were soul warming. The chocolate pastry was lush and bitter and kept me wanting more. The tarts were creamy and crumbley. Delicious. Moong dal halwa was all ghee and nuts and heavenly. And the strawberry ice cream was creamy and screamed fresh strawberries and not the artificial colour and flavour stuff.  Overall, it was a decent experience. Although I think cutting out the live music part during afternoons wouldn't be a bad idea afterall. It felt kinda loud and claustrophobic. The service was not bad. The prices were moderate. I paid 1300+ for two non-veg lunch buffets.\n",
      "Medhavi 5 Enjoyed a wide range of dishes at this buffet outlet with aesthetic interiors and designer exteriors. Scrumptious barbeque starters with grilled chicken,fish tikka in skewers on the table. Sipped on a variety of mocktails plus the singer was there to entertain throughout our time there. The main course dishes were made very well with excellent sea food, dum biryani , paneer dishes, types of breads and exquisite desserts to choose from namely white chocolate brownie , pineapple pastries , truffle cake and cut fruits. Would definitely recommend to one and all.\n",
      "Piyush Matreja 5 Live singing, spectacular ambience and every one enjoying to the grilled kebabs on their table, that's Themis barbeque all about. Based on the concept of buffet where you start with snacks on the table with cool mocktails. I tried the lemon ice tea and charred prawns tikka as well as chicken malai tikka ,their non veg starters were great. Main course I had mutton rogan josh with lachha parantha and enjoyed a few of my favourite desserts namely strawberry tarts and a chocolate truffle cake with cherries. I must say that was a good lunch I relished after long.\n",
      "Kimaya Divya 5 A place offering a buffet concept in the northern part of Delhi, with live music , a dj set up, comfortable seating. They have a set up of a grill hot plate with food grilled on skewers. We opted for non veg set up and ate prawns , chicken malai tikka , tandoori chicken in the hot portion, while chilly fish ,pizzas and mutton seekh kebab were served separately. The main course had lots of variety with dal Makhani, paneer kadhai , mix vegetable, chicken pilaf ,mutton rogan josh. The restaurant did their level best and made our time a memorable one.\n"
     ]
    }
   ],
   "source": [
    "import requests as req\n",
    "import json\n",
    "val={'res_id':'18204820'}\n",
    "res=req.get('https://developers.zomato.com/api/v2.1/reviews',params=val,\n",
    "            headers={'user-key':'026f719e424a24871d19aaa0b9d4da47'})\n",
    "data=res.json()\n",
    "data\n",
    "for i in data['user_reviews']:\n",
    "    print(i['review']['user']['name'],end=\" \")\n",
    "    print(i['review']['rating'],end=\" \")\n",
    "    print(i['review']['review_text'])"
   ]
  },
  {
   "cell_type": "markdown",
   "metadata": {},
   "source": [
    "23) Print the name of user ,user rating and review text.\n",
    "\n",
    "Note : Due to limitation of basic API plan it, can only fetch 5 latest review"
   ]
  },
  {
   "cell_type": "code",
   "execution_count": 61,
   "metadata": {},
   "outputs": [
    {
     "name": "stdout",
     "output_type": "stream",
     "text": [
      "AB's Absolute Barbecues 4.9 18269368 Centurion Star Tower, Deira City Centre Area\n",
      "Gary's Barbecue 4.9 17522122 China Grove\n",
      "The Big Barbeque 4.9 19282432 Old Mahabalipuram Road (OMR)\n",
      "WAKI Japanese BBQ Dining 4.9 18615392 Thamrin\n",
      "Akins Bar-B-Q & Grill 4.9 17350006 Bell\n",
      "Oakwood Cafe 4.9 17334212 Dalton\n",
      "Biergarten 4.9 18313531 Whitefield\n",
      "Dinosaur Bar-B-Que 4.9 17643027 Syracuse\n",
      "Sparky's Burgers Espresso and BBQ 4.9 17535416 Hatch\n",
      "Barbeque Nation 4.9 18734096 Cantonment\n"
     ]
    }
   ],
   "source": [
    "import requests as req\n",
    "import json\n",
    "val={'lat':'28.697661','lon':'77.140626','cuisines':'193','sort':'rating','order':'desc','count':10,'radius':'4'}\n",
    "res=req.get('https://developers.zomato.com/api/v2.1/search',params=val,\n",
    "            headers={'user-key':'026f719e424a24871d19aaa0b9d4da47'})\n",
    "data=res.json()\n",
    "data\n",
    "\n",
    "for i in data['restaurants']:\n",
    "    print(i['restaurant']['name'],end=\" \")\n",
    "    rat=i['restaurant']['user_rating']\n",
    "    print(rat['aggregate_rating'],end=\" \")\n",
    "    print(i['restaurant']['id'],end=\" \")\n",
    "    print(i['restaurant']['location']['locality'])"
   ]
  }
 ],
 "metadata": {
  "kernelspec": {
   "display_name": "Python 3",
   "language": "python",
   "name": "python3"
  },
  "language_info": {
   "codemirror_mode": {
    "name": "ipython",
    "version": 3
   },
   "file_extension": ".py",
   "mimetype": "text/x-python",
   "name": "python",
   "nbconvert_exporter": "python",
   "pygments_lexer": "ipython3",
   "version": "3.7.4"
  }
 },
 "nbformat": 4,
 "nbformat_minor": 4
}
